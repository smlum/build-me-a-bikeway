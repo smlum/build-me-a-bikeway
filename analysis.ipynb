{
 "cells": [
  {
   "cell_type": "code",
   "execution_count": 1,
   "metadata": {},
   "outputs": [
    {
     "name": "stdout",
     "output_type": "stream",
     "text": [
      "   CODEID                                   NOM  \\\n",
      "0      10                               LaSalle   \n",
      "1       3                   Dollard-des-Ormeaux   \n",
      "2      27                        Côte-Saint-Luc   \n",
      "3      19  Villeray-Saint-Michel-Parc-Extension   \n",
      "4      18             Rosemont-La Petite-Patrie   \n",
      "\n",
      "                           NOM_OFFICIEL CODEMAMH CODE_3C  NUM ABREV  \\\n",
      "0                               LaSalle    REM17     LAS   18    LS   \n",
      "1                   Dollard-des-Ormeaux    66142     DDO   11    DO   \n",
      "2                        Côte-Saint-Luc    66058     CSL   72    CL   \n",
      "3  Villeray–Saint-Michel–Parc-Extension    REM25     VSE   26    VS   \n",
      "4             Rosemont–La Petite-Patrie    REM24     RPP   25    RO   \n",
      "\n",
      "             TYPE COMMENT  DATEMODIF  \\\n",
      "0  Arrondissement    None 2023-11-29   \n",
      "1      Ville liée    None 2023-11-29   \n",
      "2      Ville liée    None 2023-11-29   \n",
      "3  Arrondissement    None 2023-11-29   \n",
      "4  Arrondissement    None 2023-11-29   \n",
      "\n",
      "                                            geometry  \n",
      "0  MULTIPOLYGON (((-73.6661 45.4218, -73.66531 45...  \n",
      "1  MULTIPOLYGON (((-73.84655 45.46257, -73.84602 ...  \n",
      "2  MULTIPOLYGON (((-73.68281 45.46318, -73.68129 ...  \n",
      "3  MULTIPOLYGON (((-73.62078 45.52365, -73.62069 ...  \n",
      "4  MULTIPOLYGON (((-73.5685 45.58144, -73.5685 45...  \n"
     ]
    }
   ],
   "source": [
    "import geopandas as gpd\n",
    "\n",
    "# Load the GeoJSON file from the data folder\n",
    "admin_boundaries = gpd.read_file(\"data/admin_boundaries.geojson\")\n",
    "\n",
    "# Print the first few rows to inspect its structure\n",
    "print(admin_boundaries.head())\n"
   ]
  },
  {
   "cell_type": "code",
   "execution_count": 11,
   "metadata": {},
   "outputs": [
    {
     "data": {
      "text/plain": [
       "array(['LaSalle', 'Dollard-des-Ormeaux', 'Côte-Saint-Luc',\n",
       "       'Villeray–Saint-Michel–Parc-Extension',\n",
       "       'Rosemont–La Petite-Patrie', 'Hampstead', 'Senneville',\n",
       "       'Le Plateau-Mont-Royal', 'Sainte-Anne-de-Bellevue',\n",
       "       'Montréal-Ouest', 'Côte-des-Neiges–Notre-Dame-de-Grâce',\n",
       "       \"L'Île-Bizard–Sainte-Geneviève\", 'Beaconsfield', 'Anjou', 'Verdun',\n",
       "       'Le Sud-Ouest', 'Mercier–Hochelaga-Maisonneuve', 'Montréal-Est',\n",
       "       'Lachine', 'Saint-Léonard', 'Montréal-Nord', 'Outremont',\n",
       "       \"L'Île-Dorval\", 'Mont-Royal', 'Pointe-Claire', 'Dorval',\n",
       "       'Pierrefonds-Roxboro', 'Rivière-des-Prairies–Pointe-aux-Trembles',\n",
       "       'Ahuntsic-Cartierville', 'Saint-Laurent', 'Ville-Marie',\n",
       "       'Kirkland', \"Baie-D'Urfé\", 'Westmount'], dtype=object)"
      ]
     },
     "execution_count": 11,
     "metadata": {},
     "output_type": "execute_result"
    }
   ],
   "source": [
    "admin_boundaries['NOM_OFFICIEL'].unique()"
   ]
  },
  {
   "cell_type": "code",
   "execution_count": 6,
   "metadata": {},
   "outputs": [],
   "source": [
    "import pandas as pd\n",
    "\n",
    "# Load the GeoJSON file from the data folder\n",
    "contact_list = pd.read_csv(\"data/contact_list.csv\")\n",
    "\n",
    "# Print the first few rows to inspect its structure\n",
    "# print(contact_list.head())"
   ]
  },
  {
   "cell_type": "code",
   "execution_count": 12,
   "metadata": {},
   "outputs": [
    {
     "data": {
      "text/plain": [
       "array(['Ahuntsic-Cartierville', 'Anjou',\n",
       "       'Côte-des-Neiges–Notre-Dame-de-Grâce',\n",
       "       'Ile-Bizard - Sainte-Geneviève', 'Lachine', 'LaSalle',\n",
       "       'Mercier–Hochelaga-Maisonneuve', 'Montréal-Nord', 'Outremont',\n",
       "       'Pierrefonds-Roxboro', 'Plateau-Mont-Royal',\n",
       "       'Rivière-des-Prairies–Pointe-aux-Trembles',\n",
       "       'Rosemont–La Petite-Patrie', 'Saint-Laurent', 'Saint-Léonard',\n",
       "       'Sud-Ouest', 'Verdun', 'Ville de Montréal', 'Ville-Marie',\n",
       "       'Villeray–Saint-Michel–Parc-Extension'], dtype=object)"
      ]
     },
     "execution_count": 12,
     "metadata": {},
     "output_type": "execute_result"
    }
   ],
   "source": [
    "contact_list['Arrondissement'].unique()"
   ]
  },
  {
   "cell_type": "code",
   "execution_count": 13,
   "metadata": {},
   "outputs": [
    {
     "name": "stdout",
     "output_type": "stream",
     "text": [
      "CSV has been converted to JSON!\n"
     ]
    }
   ],
   "source": [
    "import csv\n",
    "import json\n",
    "\n",
    "csv_file = \"data/contact_list.csv\"\n",
    "json_file = \"data/contact_list.json\"\n",
    "\n",
    "# Mapping dictionary for Arrondissement names in the CSV to match the region file\n",
    "mapping = {\n",
    "    \"Ile-Bizard - Sainte-Geneviève\": \"L'Île-Bizard–Sainte-Geneviève\",\n",
    "    \"Plateau-Mont-Royal\": \"Le Plateau-Mont-Royal\",\n",
    "    \"Sud-Ouest\": \"Le Sud-Ouest\",\n",
    "    \"Ville de Montréal\": \"Ville-Marie\"\n",
    "}\n",
    "\n",
    "data = []\n",
    "with open(csv_file, encoding='utf-8') as f:\n",
    "    reader = csv.DictReader(f)\n",
    "    for row in reader:\n",
    "        arrondissement = row.get(\"Arrondissement\", \"\").strip()\n",
    "        if arrondissement in mapping:\n",
    "            row[\"Arrondissement\"] = mapping[arrondissement]\n",
    "        data.append(row)\n",
    "\n",
    "with open(json_file, \"w\", encoding='utf-8') as f:\n",
    "    json.dump(data, f, ensure_ascii=False, indent=2)\n",
    "\n",
    "print(\"CSV has been converted to JSON!\")\n"
   ]
  },
  {
   "cell_type": "code",
   "execution_count": null,
   "metadata": {},
   "outputs": [],
   "source": []
  }
 ],
 "metadata": {
  "kernelspec": {
   "display_name": "venv",
   "language": "python",
   "name": "python3"
  },
  "language_info": {
   "codemirror_mode": {
    "name": "ipython",
    "version": 3
   },
   "file_extension": ".py",
   "mimetype": "text/x-python",
   "name": "python",
   "nbconvert_exporter": "python",
   "pygments_lexer": "ipython3",
   "version": "3.13.0"
  }
 },
 "nbformat": 4,
 "nbformat_minor": 2
}
